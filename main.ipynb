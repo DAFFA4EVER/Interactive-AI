{
 "cells": [
  {
   "cell_type": "code",
   "execution_count": 1,
   "metadata": {},
   "outputs": [
    {
     "name": "stdout",
     "output_type": "stream",
     "text": [
      "\n",
      "[---Saved Object---]\n",
      "0 : Ball\n",
      "1 : Bottle\n",
      "2 : Buds2\n",
      "3 : Daffa\n",
      "4 : Hand\n",
      "5 : L\n",
      "6 : Mouse\n",
      "7 : Pen\n",
      "8 : Phone\n"
     ]
    }
   ],
   "source": [
    "from vidcam import VideoCapture\n",
    "import os\n",
    "from preprocessing import object_preprocessing as op\n",
    "from neural_network import neural_network_engine as nne\n",
    "import pathlib\n",
    "\n",
    "frame_data = f'{pathlib.Path().resolve()}/frame_data'\n",
    "default_path = f'{pathlib.Path().resolve()}'\n",
    "\n",
    "while(True):\n",
    "    flag = input(\"Add new object?(Yes/No) \")\n",
    "    if(flag.lower() == \"no\"):\n",
    "        break\n",
    "    while(flag.lower() != \"yes\"):\n",
    "        flag = input(\"Add new object?(Yes/No) \")\n",
    "\n",
    "    object_name = input(\"Input your object name : \")\n",
    "    VideoCapture.record(object_name, default_path)\n",
    "    count_frame = VideoCapture.vid2frame(object_name, default_path)\n",
    "\n",
    "    if count_frame < 300:\n",
    "        print(f\"Not enough frame data to process!!! Frame Count : {count_frame} Needed : 300\")\n",
    "        VideoCapture.abandon(object_name, default_path)\n",
    "    else:\n",
    "        print(f\"{object_name} has been created!!!\")\n",
    "\n",
    "available_object = os.listdir(frame_data)\n",
    "print(\"\\n[---Saved Object---]\")\n",
    "for i in range(len(available_object)):\n",
    "    print(f\"{i} : {available_object[i].capitalize()}\")\n",
    "\n",
    "class_len = len(available_object)"
   ]
  },
  {
   "cell_type": "code",
   "execution_count": 2,
   "metadata": {},
   "outputs": [
    {
     "name": "stdout",
     "output_type": "stream",
     "text": [
      "Splitting the data\n",
      "D:\\Kuliah Telkom University\\Python\\TCM\\Learn\\Neural Network\\Interactive Test/frame_data/ball\n",
      "---------------------------------\n",
      "Object Name :  ball\n",
      "Object Code :  0\n",
      "Total Images:  461\n",
      "Training :  322\n",
      "Validation :  69\n",
      "Testing :  70\n",
      "D:\\Kuliah Telkom University\\Python\\TCM\\Learn\\Neural Network\\Interactive Test/frame_data/bottle\n",
      "---------------------------------\n",
      "Object Name :  bottle\n",
      "Object Code :  1\n",
      "Total Images:  425\n",
      "Training :  297\n",
      "Validation :  64\n",
      "Testing :  64\n",
      "D:\\Kuliah Telkom University\\Python\\TCM\\Learn\\Neural Network\\Interactive Test/frame_data/buds2\n",
      "---------------------------------\n",
      "Object Name :  buds2\n",
      "Object Code :  2\n",
      "Total Images:  471\n",
      "Training :  329\n",
      "Validation :  71\n",
      "Testing :  71\n",
      "D:\\Kuliah Telkom University\\Python\\TCM\\Learn\\Neural Network\\Interactive Test/frame_data/daffa\n",
      "---------------------------------\n",
      "Object Name :  daffa\n",
      "Object Code :  3\n",
      "Total Images:  433\n",
      "Training :  303\n",
      "Validation :  65\n",
      "Testing :  65\n",
      "D:\\Kuliah Telkom University\\Python\\TCM\\Learn\\Neural Network\\Interactive Test/frame_data/hand\n",
      "---------------------------------\n",
      "Object Name :  hand\n",
      "Object Code :  4\n",
      "Total Images:  452\n",
      "Training :  316\n",
      "Validation :  68\n",
      "Testing :  68\n",
      "D:\\Kuliah Telkom University\\Python\\TCM\\Learn\\Neural Network\\Interactive Test/frame_data/l\n",
      "---------------------------------\n",
      "Object Name :  l\n",
      "Object Code :  5\n",
      "Total Images:  220\n",
      "Training :  154\n",
      "Validation :  33\n",
      "Testing :  33\n",
      "D:\\Kuliah Telkom University\\Python\\TCM\\Learn\\Neural Network\\Interactive Test/frame_data/mouse\n",
      "---------------------------------\n",
      "Object Name :  mouse\n",
      "Object Code :  6\n",
      "Total Images:  447\n",
      "Training :  312\n",
      "Validation :  67\n",
      "Testing :  68\n",
      "D:\\Kuliah Telkom University\\Python\\TCM\\Learn\\Neural Network\\Interactive Test/frame_data/pen\n",
      "---------------------------------\n",
      "Object Name :  pen\n",
      "Object Code :  7\n",
      "Total Images:  483\n",
      "Training :  338\n",
      "Validation :  72\n",
      "Testing :  73\n",
      "D:\\Kuliah Telkom University\\Python\\TCM\\Learn\\Neural Network\\Interactive Test/frame_data/phone\n",
      "---------------------------------\n",
      "Object Name :  phone\n",
      "Object Code :  8\n",
      "Total Images:  623\n",
      "Training :  436\n",
      "Validation :  93\n",
      "Testing :  94\n",
      "---------------------------------\n",
      "Saving split data\n",
      "Save Excel Success\n",
      "Preparing the data\n"
     ]
    }
   ],
   "source": [
    "img_height_resize = 120\n",
    "img_weight_resize = 120\n",
    "\n",
    "pre_data = op(frame_data, default_path)\n",
    "mode = int(input(\"\\nWhich one do you prefer?\\n1. Use new data\\n2. Load existing data\\nChoose : \"))\n",
    "if(mode==1):\n",
    "    pre_data.split_data(available_object)\n",
    "else:\n",
    "    pre_data.load_excel_split()\n",
    "\n",
    "pre_data.prepare_data(img_height_resize, img_weight_resize, None)"
   ]
  },
  {
   "cell_type": "code",
   "execution_count": 3,
   "metadata": {},
   "outputs": [
    {
     "name": "stderr",
     "output_type": "stream",
     "text": [
      "c:\\Users\\DA4\\anaconda3\\envs\\tensor-gpu\\lib\\site-packages\\keras\\optimizer_v2\\optimizer_v2.py:355: UserWarning: The `lr` argument is deprecated, use `learning_rate` instead.\n",
      "  warnings.warn(\n"
     ]
    },
    {
     "name": "stdout",
     "output_type": "stream",
     "text": [
      "Epoch 1/10\n",
      "88/88 [==============================] - 6s 19ms/step - loss: 1.3572 - accuracy: 0.5518 - val_loss: 0.6483 - val_accuracy: 0.8223\n",
      "Epoch 2/10\n",
      "88/88 [==============================] - 1s 16ms/step - loss: 0.4743 - accuracy: 0.8628 - val_loss: 0.3319 - val_accuracy: 0.9020\n",
      "Epoch 3/10\n",
      "88/88 [==============================] - 1s 16ms/step - loss: 0.2475 - accuracy: 0.9252 - val_loss: 0.1252 - val_accuracy: 0.9701\n",
      "Epoch 4/10\n",
      "88/88 [==============================] - 1s 16ms/step - loss: 0.1533 - accuracy: 0.9562 - val_loss: 0.0783 - val_accuracy: 0.9884\n",
      "Epoch 5/10\n",
      "88/88 [==============================] - 1s 16ms/step - loss: 0.1023 - accuracy: 0.9751 - val_loss: 0.0725 - val_accuracy: 0.9801\n",
      "Epoch 6/10\n",
      "88/88 [==============================] - 1s 16ms/step - loss: 0.0796 - accuracy: 0.9790 - val_loss: 0.0408 - val_accuracy: 0.9900\n",
      "Epoch 7/10\n",
      "88/88 [==============================] - 1s 16ms/step - loss: 0.0734 - accuracy: 0.9772 - val_loss: 0.0411 - val_accuracy: 0.9850\n",
      "Epoch 8/10\n",
      "88/88 [==============================] - 1s 16ms/step - loss: 0.0609 - accuracy: 0.9811 - val_loss: 0.0313 - val_accuracy: 0.9950\n",
      "Epoch 9/10\n",
      "88/88 [==============================] - 1s 16ms/step - loss: 0.0545 - accuracy: 0.9850 - val_loss: 0.0573 - val_accuracy: 0.9701\n",
      "Epoch 10/10\n",
      "88/88 [==============================] - 1s 16ms/step - loss: 0.0408 - accuracy: 0.9893 - val_loss: 0.0248 - val_accuracy: 0.9934\n"
     ]
    }
   ],
   "source": [
    "gas = nne()\n",
    "gas.build_layer(class_len, img_height_resize, img_weight_resize, default_path)\n",
    "gas.train(pre_data.x_train, pre_data.y_train, pre_data.x_val, pre_data.y_val)"
   ]
  },
  {
   "cell_type": "code",
   "execution_count": 4,
   "metadata": {},
   "outputs": [
    {
     "name": "stdout",
     "output_type": "stream",
     "text": [
      "Model: \"sequential\"\n",
      "_________________________________________________________________\n",
      "Layer (type)                 Output Shape              Param #   \n",
      "=================================================================\n",
      "conv2d (Conv2D)              (None, 120, 120, 32)      896       \n",
      "_________________________________________________________________\n",
      "max_pooling2d (MaxPooling2D) (None, 60, 60, 32)        0         \n",
      "_________________________________________________________________\n",
      "flatten (Flatten)            (None, 115200)            0         \n",
      "_________________________________________________________________\n",
      "dense (Dense)                (None, 512)               58982912  \n",
      "_________________________________________________________________\n",
      "dropout (Dropout)            (None, 512)               0         \n",
      "_________________________________________________________________\n",
      "dense_1 (Dense)              (None, 9)                 4617      \n",
      "=================================================================\n",
      "Total params: 58,988,425\n",
      "Trainable params: 58,988,425\n",
      "Non-trainable params: 0\n",
      "_________________________________________________________________\n",
      "None\n"
     ]
    }
   ],
   "source": [
    "gas.model_summary()"
   ]
  },
  {
   "cell_type": "code",
   "execution_count": 5,
   "metadata": {},
   "outputs": [
    {
     "name": "stdout",
     "output_type": "stream",
     "text": [
      "19/19 [==============================] - 0s 6ms/step - loss: 0.0139 - accuracy: 0.9983\n",
      "Test Loss : 0.013855363242328167 | Test Accuracy : 99.83498454093933%\n"
     ]
    }
   ],
   "source": [
    "gas.model_evaluation(pre_data.x_test, pre_data.y_test)"
   ]
  },
  {
   "cell_type": "code",
   "execution_count": 6,
   "metadata": {},
   "outputs": [
    {
     "name": "stdout",
     "output_type": "stream",
     "text": [
      "              precision    recall  f1-score   support\n",
      "\n",
      "           0       1.00      1.00      1.00        70\n",
      "           1       0.98      1.00      0.99        64\n",
      "           2       1.00      0.99      0.99        71\n",
      "           3       1.00      1.00      1.00        65\n",
      "           4       1.00      1.00      1.00        68\n",
      "           5       1.00      1.00      1.00        33\n",
      "           6       1.00      1.00      1.00        68\n",
      "           7       1.00      1.00      1.00        73\n",
      "           8       1.00      1.00      1.00        94\n",
      "\n",
      "    accuracy                           1.00       606\n",
      "   macro avg       1.00      1.00      1.00       606\n",
      "weighted avg       1.00      1.00      1.00       606\n",
      "\n"
     ]
    }
   ],
   "source": [
    "gas.confusion_matrix(pre_data.x_test, pre_data.y_test)"
   ]
  },
  {
   "cell_type": "code",
   "execution_count": 7,
   "metadata": {},
   "outputs": [
    {
     "name": "stdout",
     "output_type": "stream",
     "text": [
      "Model saved at : D:\\Kuliah Telkom University\\Python\\TCM\\Learn\\Neural Network\\Interactive Test/saved_model/Hahaha_9.h5\n"
     ]
    }
   ],
   "source": [
    "gas.save_model()"
   ]
  },
  {
   "cell_type": "markdown",
   "metadata": {},
   "source": [
    "Do Prediction"
   ]
  },
  {
   "cell_type": "code",
   "execution_count": 8,
   "metadata": {},
   "outputs": [
    {
     "name": "stdout",
     "output_type": "stream",
     "text": [
      "Preparing the data\n",
      "[Prediction Result]\n",
      "20220504_105533.jpg => phone\n"
     ]
    }
   ],
   "source": [
    "pre_data.prepare_data(img_height_resize, img_weight_resize, flag='predict')\n",
    "\n",
    "prediction_data, prediction_datalist = pre_data.predict_data, pre_data.predict_file_list\n",
    "\n",
    "gas.prediction(prediction_data, prediction_datalist, available_object)"
   ]
  }
 ],
 "metadata": {
  "kernelspec": {
   "display_name": "Python 3.9.7 ('tensor-gpu')",
   "language": "python",
   "name": "python3"
  },
  "language_info": {
   "codemirror_mode": {
    "name": "ipython",
    "version": 3
   },
   "file_extension": ".py",
   "mimetype": "text/x-python",
   "name": "python",
   "nbconvert_exporter": "python",
   "pygments_lexer": "ipython3",
   "version": "3.9.7"
  },
  "orig_nbformat": 4,
  "vscode": {
   "interpreter": {
    "hash": "069fac32164d4f8826d0272ba60b2aaaccb33d3d979105e0660a65963367c925"
   }
  }
 },
 "nbformat": 4,
 "nbformat_minor": 2
}
